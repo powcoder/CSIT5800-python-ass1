{
 "cells": [
  {
   "cell_type": "markdown",
   "metadata": {},
   "source": [
    "<br/>\n",
    "# CSIT 5800 Introduction to Big Data\n",
    "### Assignment 1 - Data Pre-processing and Exploratory Analysis"
   ]
  },
  {
   "cell_type": "markdown",
   "metadata": {},
   "source": [
    "### Description\n",
    "In this assignment, you will have an opportunity to apply data pre-processing tecniques that you learned in the class to a problem. In addition, you will do exploratory analysis on the given dataset.\n",
    "\n",
    "To get started on this assignment, you need to download the given dataset and read the description carefully written on this page. Please note that all implementation of your program should be done with Python.\n",
    "<br/>"
   ]
  },
  {
   "cell_type": "markdown",
   "metadata": {},
   "source": [
    "### Intended Learning Outcomes\n",
    "\n",
    "- Upon completion of this assignment, you should be able to:\n",
    "<ol>\n",
    "    <li>Demonstrate your understanding on how to pre-process data using the algorithms / techniques as described in the class.</li>\n",
    "    <li>Use simple descriptive statistical appraoches to understand your data.</li>\n",
    "    <li>Construct Python program to analyse the data and draw simple conclusions from it.</li>\n",
    "</ol>"
   ]
  },
  {
   "cell_type": "markdown",
   "metadata": {},
   "source": [
    "### Required Libraries\n",
    "The following libraries are required for this assignment:\n",
    "<ol>\n",
    "    <li>Numpy - Numerical python</li>\n",
    "    <li>Scipy - Scientific python</li>\n",
    "    <li>Matplotlib - Python 2D plotting library</li>\n",
    "    <li>Seaborn - Visualization library based on matplotlib</li>\n",
    "    <li>Pandas - Python data analysis library</li>\n",
    "</ol>"
   ]
  },
  {
   "cell_type": "markdown",
   "metadata": {},
   "source": [
    "### Dataset ~ House Prices (<a href=\"https://canvas.ust.hk/courses/23028/files/folder/Assignment1\">house-train.csv</a>)\n",
    "\n",
    "This dataset consists of sales prices of houses in Ames, Iowa (<a href=\"http://www.amstat.org/publications/jse/v19n3/decock.pdf\">The Ames Housing Dataset</a>).\n",
    "The training dataset has 1460 instances with unique Ids, sales prices, and 79 more features.\n",
    "\n",
    "<ul>\n",
    "<li>Pricing — Monetary values, one of which is the sales price we are trying to determine<br />\n",
    "Examples: SalePrice, MiscVal    \n",
    "</li> \n",
    "<li>Dates — Time based data about when it was built, remodeled or sold.<br />\n",
    "Example: YearBuilt, YearRemodAdd, GarageYrBlt, YrSold\n",
    "</li>\n",
    "<li>Quality/Condition — There are categorical assessment of the various features of the houses, most likely from the property assessor.<br />\n",
    "Example: PoolQC, SaleCondition, GarageQual, HeatingQC\n",
    "</li>\n",
    "<li>Property Features — Categorical collection of additional features and attributes of the building<br />\n",
    "Example: Foundation, Exterior1st, BsmtFinType1, Utilities\n",
    "</li>\n",
    "<li>Square Footage — Area measurement of section of the building and features like porches and lot area(which is in acres)<br />\n",
    "Example: TotalBsmtSF, GrLivArea, GarageArea, PoolArea, LotArea\n",
    "</li>\n",
    "<li>Room/Feature Count — Quantitative counts of features (versus categorical) like rooms, prime candidate for feature engineering<br />\n",
    "Example: FullBath, BedroomAbvGr, Fireplaces,GarageCars\n",
    "</li>\n",
    "<li>Neighborhood — Information about the neighborhood, zoning and lot.<br />\n",
    "Examples: MSSubClass, LandContour, Neighborhood, BldgType\n",
    "</li>\n",
    "</ul>\n",
    "\n",
    "You may refer to the data description for more details (<a href=\"https://canvas.ust.hk/courses/23028/files/folder/Assignment1\">data_description.txt</a>). "
   ]
  },
  {
   "cell_type": "markdown",
   "metadata": {},
   "source": [
    "### Steps:\n",
    "<ol>\n",
    "    <li>Importing data and exploring the features.</li>\n",
    "    <li>Cleaning data: Handling missing values.</li>\n",
    "    <li>Transforming Categorical data.</li>\n",
    "    <li>Creating new features and dropping redundant features.</li>\n",
    "    <li>Analysing data statistically.</li>\n",
    "    <li>Transforming Numerical Data: Normalization.</li>\n",
    "</ol>"
   ]
  },
  {
   "cell_type": "markdown",
   "metadata": {},
   "source": [
    "## Step 1: Importing data and exploring the features\n",
    "\n",
    "### Step 1.1 \n",
    "To start working with the House Prices dataset, you will need to import the required libraries, and read the data into a pandas DataFrame.\n",
    "- Import the following libraries using import statements.\n",
    "<ul>\n",
    "    <li>pandas (for data manipulation)</li>\n",
    "    <li>numpy (for multidimensional array computation)</li>\n",
    "    <li>seaborn and matplotlib.pyplot (both for data visualization)</li>\n",
    "</ul>\n",
    "- Read the csv file 'train.csv' using Pandas' read_csv function\n",
    "(<a href=\"https://pandas.pydata.org/pandas-docs/stable/generated/pandas.read_csv.html\">pandas.read_csv</a>)\n",
    "\n",
    "Note: Run a code cell by clicking on the cell and using the keyboard shortcut &lt;Shift&gt; + &lt;Enter&gt;."
   ]
  },
  {
   "cell_type": "code",
   "execution_count": null,
   "metadata": {
    "collapsed": true
   },
   "outputs": [],
   "source": [
    "# Put your statements here\n"
   ]
  },
  {
   "cell_type": "markdown",
   "metadata": {
    "collapsed": true
   },
   "source": [
    "### Step 1.2\n",
    "Use head function (<a href=\"https://pandas.pydata.org/pandas-docs/stable/generated/pandas.DataFrame.head.html\">pandas.DataFrame.head</a>) of pandas library to preview the first 10 data."
   ]
  },
  {
   "cell_type": "code",
   "execution_count": null,
   "metadata": {
    "collapsed": true
   },
   "outputs": [],
   "source": [
    "# Put your statement here\n"
   ]
  },
  {
   "cell_type": "markdown",
   "metadata": {},
   "source": [
    "### Step 1.3\n",
    "Use tail function (<a href=\"https://pandas.pydata.org/pandas-docs/stable/generated/pandas.DataFrame.tail.html\">pandas.DataFrame.tail</a>) of pandas library to preview the last 10 data."
   ]
  },
  {
   "cell_type": "code",
   "execution_count": null,
   "metadata": {
    "collapsed": true
   },
   "outputs": [],
   "source": [
    "# Put your statement here\n"
   ]
  },
  {
   "cell_type": "markdown",
   "metadata": {},
   "source": [
    "### Step 1.4\n",
    "Display informtion on dataframe using info function (<a href=\"https://pandas.pydata.org/pandas-docs/stable/generated/pandas.DataFrame.info.html\">pandas.DataFrame.info</a>) of pandas library."
   ]
  },
  {
   "cell_type": "code",
   "execution_count": null,
   "metadata": {
    "collapsed": true
   },
   "outputs": [],
   "source": [
    "# Put your statement here\n"
   ]
  },
  {
   "cell_type": "markdown",
   "metadata": {},
   "source": [
    "### Step 1.5\n",
    "\n",
    "Exploring the data\n",
    "\n",
    "#### Step 1.5.0\n",
    "Use select_dtypes function (<a href=\"https://pandas.pydata.org/pandas-docs/stable/reference/api/pandas.DataFrame.select_dtypes.html\">pandas.DataFrame.select_dtypes</a>) of pandas library to \n",
    "get the features (excluding SalePrice and Id) that are numerical (i.e. not categorical)."
   ]
  },
  {
   "cell_type": "code",
   "execution_count": null,
   "metadata": {
    "collapsed": true
   },
   "outputs": [],
   "source": [
    "numerical_features = trainData.select_dtypes(exclude = [\"object\"]).columns\n",
    "numerical_features = numerical_features.drop(\"SalePrice\")\n",
    "numerical_features = numerical_features.drop(\"Id\")\n",
    "print(\"# of numerical features: \" + str(len(numerical_features)))\n",
    "print (numerical_features)\n",
    "# Run the above code"
   ]
  },
  {
   "cell_type": "markdown",
   "metadata": {},
   "source": [
    "#### Step 1.5.1\n",
    "Use select_dtypes function (<a href=\"https://pandas.pydata.org/pandas-docs/stable/reference/api/pandas.DataFrame.select_dtypes.html\">pandas.DataFrame.select_dtypes</a>) of pandas library to \n",
    "get the features that are categorical.\n"
   ]
  },
  {
   "cell_type": "code",
   "execution_count": null,
   "metadata": {
    "collapsed": true
   },
   "outputs": [],
   "source": [
    "# Put your statements here\n"
   ]
  },
  {
   "cell_type": "markdown",
   "metadata": {},
   "source": [
    "### Step 1.6\n",
    "Evaluate the data quality & perform missing values assessment using isnull function (<a href=\"https://pandas.pydata.org/pandas-docs/stable/generated/pandas.isnull.html\">pandas.isnull</a>) and sum function (<a href=\"https://pandas.pydata.org/pandas-docs/stable/generated/pandas.DataFrame.sum.html\">pandas.DataFrame.sum</a>) of pandas library."
   ]
  },
  {
   "cell_type": "code",
   "execution_count": null,
   "metadata": {
    "collapsed": true
   },
   "outputs": [],
   "source": [
    "# Put your statements here\n"
   ]
  },
  {
   "cell_type": "markdown",
   "metadata": {},
   "source": [
    "<span style=\"color:red\">What is your observation?</span> \n",
    "(Write your observation here.)\n"
   ]
  },
  {
   "cell_type": "markdown",
   "metadata": {},
   "source": [
    "### Step 1.7\n",
    "Evaluate the distribution of categorical features using describe function (<a href=\"https://pandas.pydata.org/pandas-docs/stable/generated/pandas.DataFrame.describe.html\">pandas.DataFrame.describe</a>) of the pandas library.\n",
    "\n",
    "Note: if you cannot see all the features, use the command\n",
    "<pre>\n",
    "pd.options.display.max_columns = 81\n",
    "</pre>"
   ]
  },
  {
   "cell_type": "code",
   "execution_count": null,
   "metadata": {
    "collapsed": true
   },
   "outputs": [],
   "source": [
    "# Put your statements here\n"
   ]
  },
  {
   "cell_type": "markdown",
   "metadata": {},
   "source": [
    "<span style=\"color:red\">What is/are your observation(s)?</span> \n",
    "(Write your observation(s) here.)\n"
   ]
  },
  {
   "cell_type": "markdown",
   "metadata": {},
   "source": [
    "## Step 2: Cleaning data: Handling missing values"
   ]
  },
  {
   "cell_type": "markdown",
   "metadata": {},
   "source": [
    "### Step 2.1 Not Really NA Values\n",
    "According to the data description, NA actually has a particular meaning for many featuress.<br />\n",
    "But the value \"NA\" will be regarded as missing values in DataFrame.<br />\n",
    "We need to replace those by another value."
   ]
  },
  {
   "cell_type": "markdown",
   "metadata": {},
   "source": [
    "#### Step 2.1.0\n",
    "Considering the feature <strong>Alley</strong>, data description says NA means \"no alley access\".\n",
    "Use fillna function (<a href=\"https://pandas.pydata.org/pandas-docs/stable/generated/pandas.DataFrame.fillna.html\">pandas.DataFrame.fillna</a>) of pandas library \n",
    "to replace those NA values with \"None\".<br />"
   ]
  },
  {
   "cell_type": "code",
   "execution_count": null,
   "metadata": {
    "collapsed": true
   },
   "outputs": [],
   "source": [
    "trainData[\"Alley\"].fillna(\"None\", inplace=True)\n",
    "# Run the above code"
   ]
  },
  {
   "cell_type": "markdown",
   "metadata": {},
   "source": [
    "#### Step 2.1.1\n",
    "Similarly, for features:<br />\n",
    "<strong>    BsmtQual, BsmtCond, BsmtExposure, BsmtFinType1, BsmtFinType2,</strong><br />\n",
    "the data description says NA for basement features is \"no basement\".\n",
    "\n",
    "Use fillna function (<a href=\"https://pandas.pydata.org/pandas-docs/stable/generated/pandas.DataFrame.fillna.html\">pandas.DataFrame.fillna</a>) of pandas library \n",
    "to replace those NA values with \"No\".<br />"
   ]
  },
  {
   "cell_type": "code",
   "execution_count": null,
   "metadata": {
    "collapsed": true
   },
   "outputs": [],
   "source": [
    "# Put your statements here\n"
   ]
  },
  {
   "cell_type": "markdown",
   "metadata": {},
   "source": [
    "#### Step 2.1.2\n",
    "Similarly, for features:<br />\n",
    "<ul>\n",
    "<li>Fence : data description says NA means \"no fence\"</li>\n",
    "<li>FireplaceQu : data description says NA means \"no fireplace\"</li>\n",
    "<li>Functional : data description says NA means typical</li>\n",
    "<li>GarageType etc : data description says NA for garage features is \"no garage\"</li>\n",
    "<li>PoolQC : data description says NA for pool quality is \"no pool\"</li>\n",
    "<li>MiscFeature: Miscellaneous feature not covered in other categories, NA means no miscellaneous features</li>\n",
    "</ul>\n",
    "\n",
    "Use fillna function (<a href=\"https://pandas.pydata.org/pandas-docs/stable/generated/pandas.DataFrame.fillna.html\">pandas.DataFrame.fillna</a>) of pandas library \n",
    "to replace those NA values with \"No\".<br />"
   ]
  },
  {
   "cell_type": "code",
   "execution_count": null,
   "metadata": {
    "collapsed": true
   },
   "outputs": [],
   "source": [
    "#Put your statements here\n"
   ]
  },
  {
   "cell_type": "markdown",
   "metadata": {},
   "source": [
    "### Step 2.2\n",
    "Besides the features above, there are two other features with missing value: <br />\n",
    "<strong>MasVnrType</strong> and <strong>MasVnrArea</strong> <br />\n",
    "\n",
    "#### Step 2.2.0\n",
    "If we look at those instances with missing values of MasVnrType, we can observe that those instances will also have values of MasVnrArea missing."
   ]
  },
  {
   "cell_type": "code",
   "execution_count": null,
   "metadata": {
    "collapsed": true
   },
   "outputs": [],
   "source": [
    "tempData = trainData.isnull()[[\"MasVnrType\", \"MasVnrArea\"]]\n",
    "tempData.loc[tempData.MasVnrType == True]\n",
    "# Run the above code"
   ]
  },
  {
   "cell_type": "markdown",
   "metadata": {},
   "source": [
    "#### Step 2.2.1\n",
    "\n",
    "First, let's explore the <strong>MasVnrType</strong> feature.\n",
    "For this feature, evaluate the distribution using countplot function (<a href=\"https://seaborn.pydata.org/generated/seaborn.countplot.html\">seaborn.countplot</a>) of seaborn library."
   ]
  },
  {
   "cell_type": "code",
   "execution_count": null,
   "metadata": {
    "collapsed": true
   },
   "outputs": [],
   "source": [
    "# Put your statements here\n"
   ]
  },
  {
   "cell_type": "markdown",
   "metadata": {},
   "source": [
    "<span style=\"color:red\">What is your observation?</span>(Write your observation here.)\n",
    "\n",
    "\n"
   ]
  },
  {
   "cell_type": "markdown",
   "metadata": {},
   "source": [
    "#### Step 2.2.2\n",
    "Use the most common value of the feature to impute the missing values. Again, fillna function (<a href=\"https://pandas.pydata.org/pandas-docs/stable/generated/pandas.DataFrame.fillna.html\">pandas.DataFrame.fillna</a>) of the pandas library can be used."
   ]
  },
  {
   "cell_type": "code",
   "execution_count": null,
   "metadata": {
    "collapsed": true
   },
   "outputs": [],
   "source": [
    "# Put your statement here\n"
   ]
  },
  {
   "cell_type": "markdown",
   "metadata": {},
   "source": [
    "#### Step 2.2.3\n",
    "\n",
    "Then, let's look at the feature: <strong>MasVnrArea</strong>.\n",
    "\n",
    "Since we have replaced the missing values of MasVnrType with \"None\", we should look at the values of <del>MasVnrType</del> <strong>MasVnrArea</strong> with respect to those with MasVnrType of \"None\".\n",
    "\n",
    "To do this, evaluate the distribution using countplot function (<a href=\"https://seaborn.pydata.org/generated/seaborn.countplot.html\">seaborn.countplot</a>) of seaborn library.\n",
    "\n",
    "Note: to get those instances whose value of MasVnrType is \"None\":\n",
    "<pre>\n",
    "trainData.loc[trainData.MasVnrType ==\"None\"]\n",
    "</pre>"
   ]
  },
  {
   "cell_type": "code",
   "execution_count": null,
   "metadata": {
    "collapsed": true
   },
   "outputs": [],
   "source": [
    "# Put your statement here\n"
   ]
  },
  {
   "cell_type": "markdown",
   "metadata": {},
   "source": [
    "<span style=\"color:red\">What is your observation?</span> (Write your observation here.)\n"
   ]
  },
  {
   "cell_type": "markdown",
   "metadata": {},
   "source": [
    "#### Step 2.2.4\n",
    "Use the most common value of the feature to impute the missing values. Again, fillna function (<a href=\"https://pandas.pydata.org/pandas-docs/stable/generated/pandas.DataFrame.fillna.html\">pandas.DataFrame.fillna</a>) of the pandas library can be used."
   ]
  },
  {
   "cell_type": "code",
   "execution_count": null,
   "metadata": {
    "collapsed": true
   },
   "outputs": [],
   "source": [
    "# Put your statement here\n"
   ]
  },
  {
   "cell_type": "markdown",
   "metadata": {},
   "source": [
    "### Step 2.3\n",
    "\n",
    "The feature <strong>LotFrontage</strong> also has missing values.\n",
    "\n",
    "#### Step 2.3.1\n",
    "For the feature <strong>LotFrontage</strong>, evaluate its distribution using hist function (<a href=\"https://pandas.pydata.org/pandas-docs/stable/generated/pandas.DataFrame.hist.html\">pandas.DataFrame.hist</a>) of pandas library."
   ]
  },
  {
   "cell_type": "code",
   "execution_count": null,
   "metadata": {
    "collapsed": true
   },
   "outputs": [],
   "source": [
    "# Put your statements here \n"
   ]
  },
  {
   "cell_type": "markdown",
   "metadata": {},
   "source": [
    "#### Step 2.3.2\n",
    "Compute the mean OR median of the <del>second least missing values</del> <strong>feature LotFrontage</strong> using mean (<a href=\"https://pandas.pydata.org/pandas-docs/stable/generated/pandas.DataFrame.mean.html\">pandas.DataFrame.mean</a>) / median function (<a href=\"https://pandas.pydata.org/pandas-docs/stable/generated/pandas.DataFrame.median.html\">pandas.DataFrame.median</a>) of pandas library.\n",
    "\n",
    "Note: You have to skip all the missing values when computing the mean or median."
   ]
  },
  {
   "cell_type": "code",
   "execution_count": null,
   "metadata": {
    "collapsed": true
   },
   "outputs": [],
   "source": [
    "# Put your statements here\n"
   ]
  },
  {
   "cell_type": "markdown",
   "metadata": {},
   "source": [
    "#### Step 2.3.3\n",
    "Use mean / median to impute the missing values of the feature <del>with the second least missing values</del> <strong>LotFrontage</strong>. fillna function (<a href=\"https://pandas.pydata.org/pandas-docs/stable/generated/pandas.DataFrame.fillna.html\">pandas.DataFrame.fillna</a>) of pandas library can be used."
   ]
  },
  {
   "cell_type": "code",
   "execution_count": null,
   "metadata": {
    "collapsed": true
   },
   "outputs": [],
   "source": [
    "# Put your statement here\n"
   ]
  },
  {
   "cell_type": "markdown",
   "metadata": {},
   "source": [
    "### Step 2.4\n",
    "\n",
    "Since there is only one missing instance in the feature 'Electrical', we will keep the feature and just delete that instance."
   ]
  },
  {
   "cell_type": "code",
   "execution_count": null,
   "metadata": {
    "collapsed": true
   },
   "outputs": [],
   "source": [
    "trainData = trainData.drop(trainData.loc[trainData['Electrical'].isnull()].index)\n",
    "# Run the above code"
   ]
  },
  {
   "cell_type": "markdown",
   "metadata": {},
   "source": [
    "### Step 2.5\n",
    "\n",
    "For the last feature with missing value, <strong>GarageYrBlt</strong>, we will just drop this feature\n",
    "using drop function (<a href=\"https://pandas.pydata.org/pandas-docs/stable/generated/pandas.DataFrame.drop.html\">pandas.DataFrame.drop</a>) of the pandas library) since there is already the feature 'YearBuilt'."
   ]
  },
  {
   "cell_type": "code",
   "execution_count": null,
   "metadata": {
    "collapsed": true
   },
   "outputs": [],
   "source": [
    "# Put your statement here\n"
   ]
  },
  {
   "cell_type": "markdown",
   "metadata": {},
   "source": [
    "## Step 3: Transforming data"
   ]
  },
  {
   "cell_type": "markdown",
   "metadata": {},
   "source": [
    "### Step 3.1\n",
    "Using <a href=\"https://pandas.pydata.org/pandas-docs/stable/reference/api/pandas.DataFrame.replace.html\">pandas.DataFrame.replace</a> function, transfor the following numerical features to categorical.\n",
    "\n",
    "<ul>\n",
    "<li>MSSubClass:<br />\n",
    "20 : \"SC20\", 30 : \"SC30\", 40 : \"SC40\", 45 : \"SC45\", \n",
    "50 : \"SC50\", 60 : \"SC60\", 70 : \"SC70\", 75 : \"SC75\", \n",
    "80 : \"SC80\", 85 : \"SC85\", 90 : \"SC90\", 120 : \"SC120\", \n",
    "150 : \"SC150\", 160 : \"SC160\", 180 : \"SC180\", 190 : \"SC190\"\n",
    "</li>\n",
    "<li>MoSold:<br />\n",
    "1 : \"Jan\", 2 : \"Feb\", 3 : \"Mar\", 4 : \"Apr\", 5 : \"May\", 6 : \"Jun\", 7 : \"Jul\", 8 : \"Aug\", 9 : \"Sep\", 10 : \"Oct\", 11 : \"Nov\", 12 : \"Dec\"\n",
    "</li>\n",
    "</ul>"
   ]
  },
  {
   "cell_type": "code",
   "execution_count": null,
   "metadata": {
    "collapsed": true
   },
   "outputs": [],
   "source": [
    "# Put your statements here\n"
   ]
  },
  {
   "cell_type": "markdown",
   "metadata": {},
   "source": [
    "### Step 3.2\n",
    "Using <a href=\"https://pandas.pydata.org/pandas-docs/stable/reference/api/pandas.DataFrame.replace.html\">pandas.DataFrame.replace</a> function, transfor values of the following categorical features to numerical values.\n",
    "\n",
    "<ul>\n",
    "<li>\n",
    "Alley : {\"Grvl\" : 1, \"Pave\" : 2},\n",
    "</li><li>\n",
    "BsmtCond : {\"No\" : 0, \"Po\" : 1, \"Fa\" : 2, \"TA\" : 3, \"Gd\" : 4, \"Ex\" : 5}\n",
    "</li><li>\n",
    "BsmtExposure : {\"No\" : 0, \"Mn\" : 1, \"Av\": 2, \"Gd\" : 3}\n",
    "</li><li>\n",
    "BsmtFinType1 : {\"No\" : 0, \"Unf\" : 1, \"LwQ\": 2, \"Rec\" : 3, \"BLQ\" : 4, \n",
    "                                         \"ALQ\" : 5, \"GLQ\" : 6}\n",
    "</li><li>\n",
    "BsmtFinType2 : {\"No\" : 0, \"Unf\" : 1, \"LwQ\": 2, \"Rec\" : 3, \"BLQ\" : 4, \n",
    "                                         \"ALQ\" : 5, \"GLQ\" : 6}\n",
    "</li><li>\n",
    "BsmtQual : {\"No\" : 0, \"Po\" : 1, \"Fa\" : 2, \"TA\": 3, \"Gd\" : 4, \"Ex\" : 5}\n",
    "</li><li>\n",
    "ExterCond : {\"Po\" : 1, \"Fa\" : 2, \"TA\": 3, \"Gd\": 4, \"Ex\" : 5}\n",
    "</li><li>\n",
    "ExterQual : {\"Po\" : 1, \"Fa\" : 2, \"TA\": 3, \"Gd\": 4, \"Ex\" : 5}\n",
    "</li><li>\n",
    "FireplaceQu : {\"No\" : 0, \"Po\" : 1, \"Fa\" : 2, \"TA\" : 3, \"Gd\" : 4, \"Ex\" : 5}\n",
    "</li><li>\n",
    "Functional : {\"Sal\" : 1, \"Sev\" : 2, \"Maj2\" : 3, \"Maj1\" : 4, \"Mod\": 5, \n",
    "                                       \"Min2\" : 6, \"Min1\" : 7, \"Typ\" : 8}\n",
    "</li><li>\n",
    "GarageCond : {\"No\" : 0, \"Po\" : 1, \"Fa\" : 2, \"TA\" : 3, \"Gd\" : 4, \"Ex\" : 5}\n",
    "</li><li>\n",
    "GarageQual : {\"No\" : 0, \"Po\" : 1, \"Fa\" : 2, \"TA\" : 3, \"Gd\" : 4, \"Ex\" : 5}\n",
    "</li><li>\n",
    "HeatingQC : {\"Po\" : 1, \"Fa\" : 2, \"TA\" : 3, \"Gd\" : 4, \"Ex\" : 5}\n",
    "</li><li>\n",
    "KitchenQual : {\"Po\" : 1, \"Fa\" : 2, \"TA\" : 3, \"Gd\" : 4, \"Ex\" : 5}\n",
    "</li><li>\n",
    "LandSlope : {\"Sev\" : 1, \"Mod\" : 2, \"Gtl\" : 3}\n",
    "</li><li>\n",
    "LotShape : {\"IR3\" : 1, \"IR2\" : 2, \"IR1\" : 3, \"Reg\" : 4}\n",
    "</li><li>\n",
    "PavedDrive : {\"N\" : 0, \"P\" : 1, \"Y\" : 2}\n",
    "</li><li>\n",
    "PoolQC : {\"No\" : 0, \"Fa\" : 1, \"TA\" : 2, \"Gd\" : 3, \"Ex\" : 4}\n",
    "</li><li>\n",
    "Street : {\"Grvl\" : 1, \"Pave\" : 2}\n",
    "</li><li>\n",
    "Utilities : {\"ELO\" : 1, \"NoSeWa\" : 2, \"NoSewr\" : 3, \"AllPub\" : 4}\n",
    "</li>\n",
    "</ul>"
   ]
  },
  {
   "cell_type": "code",
   "execution_count": null,
   "metadata": {
    "collapsed": true
   },
   "outputs": [],
   "source": [
    "# Put your statements here\n"
   ]
  },
  {
   "cell_type": "markdown",
   "metadata": {},
   "source": [
    "## Step 4: Creating new features and dropping redundant features"
   ]
  },
  {
   "cell_type": "markdown",
   "metadata": {},
   "source": [
    "### Step 4.0\n",
    "We can create new features by combining some existing features.\n",
    "For example, we can combine GrLiveArea with TotalBsmtSF to form a new feature called TotalSF.\n",
    "- Define a new feature 'TotalSF' and assign it with the sum of GrLiveArea and TotalBsmtSF."
   ]
  },
  {
   "cell_type": "code",
   "execution_count": null,
   "metadata": {
    "collapsed": true
   },
   "outputs": [],
   "source": [
    "trainData[\"TotalSF\"] = trainData[\"GrLivArea\"] + trainData[\"TotalBsmtSF\"]\n",
    "# Run the above code"
   ]
  },
  {
   "cell_type": "markdown",
   "metadata": {},
   "source": [
    "### Step 4.1\n",
    "Similarly, we can create more new features considering the followings:\n",
    "<ul>\n",
    "<li>\n",
    "Overall quality of the house: product of OverallQual and OverallCond\n",
    "</li><li>\n",
    "Overall quality of the garage: product of GarageQual and GarageCond\n",
    "</li><li>\n",
    "Overall quality of the exterior: product of ExterQual and ExterCond\n",
    "</li><li>\n",
    "Overall kitchen score: product of KitchenAbvGr and KitchenQual\n",
    "</li><li>\n",
    "Overall fireplace score: product of Fireplaces and FireplaceQu\n",
    "</li><li>\n",
    "Overall garage score: product of GarageArea and GarageQual\n",
    "</li><li>\n",
    "Overall pool score: product of PoolAre and PoolQC\n",
    "</li><li>\n",
    "Total number of bathrooms: sum of BsmtFullBath, half of BsmtHalfBath, FullBath and half of HalfBath\n",
    "</li><li>\n",
    "Total SF for 1st + 2nd floors: sum of 1stFlrSF and 2ndFlrSF\n",
    "</li><li>\n",
    "Total SF for porch: sum of OpenPorchSF, EnclosedPorch, 3SsnPrch, and ScreenPorch\n",
    "</li>\n",
    "<ul>"
   ]
  },
  {
   "cell_type": "code",
   "execution_count": null,
   "metadata": {
    "collapsed": true
   },
   "outputs": [],
   "source": [
    "# Put your statements here\n"
   ]
  },
  {
   "cell_type": "markdown",
   "metadata": {},
   "source": [
    "### Step 4.2\n",
    "- The feature \"Id\" can be dropped (using drop function (<a href=\"https://pandas.pydata.org/pandas-docs/stable/generated/pandas.DataFrame.drop.html\">pandas.DataFrame.drop</a>) of the pandas library)."
   ]
  },
  {
   "cell_type": "code",
   "execution_count": null,
   "metadata": {
    "collapsed": true
   },
   "outputs": [],
   "source": [
    "# Put your statement here\n"
   ]
  },
  {
   "cell_type": "markdown",
   "metadata": {},
   "source": [
    "## Step 5: Analysing data statistically and graphically"
   ]
  },
  {
   "cell_type": "markdown",
   "metadata": {},
   "source": [
    "### Step 5.1\n",
    "Use describe function (<a href=\"https://pandas.pydata.org/pandas-docs/stable/generated/pandas.DataFrame.describe.html\">pands.DataFrame.describe</a>) of pandas library to generate descriptive statistics that summarize the central tendency, dispersion and shape of a dataset's distribution."
   ]
  },
  {
   "cell_type": "code",
   "execution_count": null,
   "metadata": {
    "collapsed": true
   },
   "outputs": [],
   "source": [
    "# Put your statement here\n"
   ]
  },
  {
   "cell_type": "markdown",
   "metadata": {},
   "source": [
    "### Step 5.2\n",
    "We can explore the correlations between features.\n",
    "\n",
    "#### Step 5.2.1\n",
    "Using <a href=\"http://pandas.pydata.org/pandas-docs/stable/reference/api/pandas.DataFrame.corr.html\">pandas.DataFrame.corr</a> function to compute the pairwise correlation."
   ]
  },
  {
   "cell_type": "code",
   "execution_count": null,
   "metadata": {
    "collapsed": true
   },
   "outputs": [],
   "source": [
    "# Put your statements here\n"
   ]
  },
  {
   "cell_type": "markdown",
   "metadata": {},
   "source": [
    "#### Step 5.2.2\n",
    "Display the pairwise correlation with a heatmap using <a href=\"http://seaborn.pydata.org/generated/seaborn.heatmap.html\">seaborn.heatmap</a>."
   ]
  },
  {
   "cell_type": "code",
   "execution_count": null,
   "metadata": {
    "collapsed": true
   },
   "outputs": [],
   "source": [
    "# Put your statements here\n"
   ]
  },
  {
   "cell_type": "markdown",
   "metadata": {},
   "source": [
    "<span style=\"color:red\">Give two observations.</span> (Write your observation(s) here.)\n"
   ]
  },
  {
   "cell_type": "markdown",
   "metadata": {},
   "source": [
    "### Step 5.3\n",
    "Using Scatter Plot\n",
    "\n",
    "#### Step 5.3.1\n",
    "Explore SalePrice with respect to GrLiveArea using scatter function \n",
    "(<a href=\"https://matplotlib.org/api/_as_gen/matplotlib.pyplot.scatter.html\">matplotlib.pyplot.scatter</a>) of matplotlib library."
   ]
  },
  {
   "cell_type": "code",
   "execution_count": null,
   "metadata": {
    "collapsed": true
   },
   "outputs": [],
   "source": [
    "# Put your statements here\n"
   ]
  },
  {
   "cell_type": "markdown",
   "metadata": {},
   "source": [
    "<span style=\"color:red\">What is your observation?</span> (Write your observation here.)\n",
    "\n",
    "\n",
    "<span style=\"color:red\">What can we do?</span> (Write your answer here.)\n",
    "\n"
   ]
  },
  {
   "cell_type": "markdown",
   "metadata": {},
   "source": [
    "#### Step 5.3.2\n",
    "Explore SalePrice with respect to TotalSF using scatter function \n",
    "(<a href=\"https://matplotlib.org/api/_as_gen/matplotlib.pyplot.scatter.html\">matplotlib.pyplot.scatter</a>) of matplotlib library."
   ]
  },
  {
   "cell_type": "code",
   "execution_count": null,
   "metadata": {
    "collapsed": true
   },
   "outputs": [],
   "source": [
    "# Put your statements here\n"
   ]
  },
  {
   "cell_type": "markdown",
   "metadata": {},
   "source": [
    "<span style=\"color:red\">What is your observation?</span> (Write your observation here.)\n",
    "\n"
   ]
  },
  {
   "cell_type": "markdown",
   "metadata": {},
   "source": [
    "#### Step 5.3.3\n",
    "Explore SalePrice with respect to YearBuilt using scatter function \n",
    "(<a href=\"https://matplotlib.org/api/_as_gen/matplotlib.pyplot.scatter.html\">matplotlib.pyplot.scatter</a>) of matplotlib library."
   ]
  },
  {
   "cell_type": "code",
   "execution_count": null,
   "metadata": {
    "collapsed": true
   },
   "outputs": [],
   "source": [
    "# Put your statements here\n"
   ]
  },
  {
   "cell_type": "markdown",
   "metadata": {},
   "source": [
    "<span style=\"color:red\">What is your observation?</span> (Write your obeservation here.)\n",
    "\n"
   ]
  },
  {
   "cell_type": "markdown",
   "metadata": {},
   "source": [
    "### Step 5.4\n",
    "Using Count Plot\n",
    "\n",
    "#### Step 5.4.1\n",
    "Explore MoSold (Month Sold) using countplot function (<a href=\"https://seaborn.pydata.org/generated/seaborn.countplot.html\">seaborn.countplot</a>) of seaborn library."
   ]
  },
  {
   "cell_type": "code",
   "execution_count": null,
   "metadata": {
    "collapsed": true
   },
   "outputs": [],
   "source": [
    "# Put your statements here\n"
   ]
  },
  {
   "cell_type": "markdown",
   "metadata": {},
   "source": [
    "<span style=\"color:red\">What is your observation?</span> (Write your obeservation here.)\n",
    "\n"
   ]
  },
  {
   "cell_type": "markdown",
   "metadata": {},
   "source": [
    "### Step 5.5\n",
    "Using Box Plot\n",
    "\n",
    "#### Step 5.5.1\n",
    "Explore the new feature OverallQual with respect to SalePrice using boxplot function (<a href=\"https://seaborn.pydata.org/generated/seaborn.boxplot.html\">seaborn.boxplot</a>) of seaborn library."
   ]
  },
  {
   "cell_type": "code",
   "execution_count": null,
   "metadata": {
    "collapsed": true
   },
   "outputs": [],
   "source": [
    "# Put your statments here\n"
   ]
  },
  {
   "cell_type": "markdown",
   "metadata": {},
   "source": [
    "<span style=\"color:red\">What is your observation?</span> (Write your obeservation here.)\n",
    "\n"
   ]
  },
  {
   "cell_type": "markdown",
   "metadata": {},
   "source": [
    "#### Step 5.5.2\n",
    "Explore the new feature (Total Number of Bathrooms) created in step 4.1 with respect to SalePrice using boxplot function (<a href=\"https://seaborn.pydata.org/generated/seaborn.boxplot.html\">seaborn.boxplot</a>) of seaborn library."
   ]
  },
  {
   "cell_type": "code",
   "execution_count": null,
   "metadata": {
    "collapsed": true
   },
   "outputs": [],
   "source": [
    "# Put your statments here\n"
   ]
  },
  {
   "cell_type": "markdown",
   "metadata": {},
   "source": [
    "<span style=\"color:red\">What is your observation?</span> (Write your obeservation here.)\n",
    "\n"
   ]
  },
  {
   "cell_type": "markdown",
   "metadata": {},
   "source": [
    "#### Step 5.5.3\n",
    "Explore the Neigborhood with respect to SalePrice using boxplot function (<a href=\"https://seaborn.pydata.org/generated/seaborn.boxplot.html\">seaborn.boxplot</a>) of seaborn library.\n",
    "\n",
    "Note: you may want to change the size of the plot using <a href=\"https://matplotlib.org/api/_as_gen/matplotlib.pyplot.subplots.html\">matplotlib.pylot.subplots</a> function\n",
    "<pre>f, ax = plt.subplots(figsize=(26, 12))</pre>\n",
    "before creating the box plot."
   ]
  },
  {
   "cell_type": "code",
   "execution_count": null,
   "metadata": {
    "collapsed": true
   },
   "outputs": [],
   "source": [
    "# Put your statements here\n"
   ]
  },
  {
   "cell_type": "markdown",
   "metadata": {},
   "source": [
    "<span style=\"color:red\">What is your observation?</span> (Write your obeservation here.)\n",
    "\n"
   ]
  },
  {
   "cell_type": "markdown",
   "metadata": {},
   "source": [
    "## Step 6 Normailzation"
   ]
  },
  {
   "cell_type": "markdown",
   "metadata": {},
   "source": [
    "### Step 6.1 \n",
    "Explore the distribution of SalePrice using <a href=\"https://seaborn.pydata.org/generated/seaborn.distplot.html\">seaborn.displot</a> function."
   ]
  },
  {
   "cell_type": "code",
   "execution_count": null,
   "metadata": {
    "collapsed": true
   },
   "outputs": [],
   "source": [
    "# Put your statements here\n"
   ]
  },
  {
   "cell_type": "markdown",
   "metadata": {},
   "source": [
    "### Step 6.2\n",
    "\n",
    "We can also get the skewness and kurtosis using \n",
    "<a href=\"https://pandas.pydata.org/pandas-docs/stable/reference/api/pandas.DataFrame.skew.html\">pandas.DataFrame.skew</a>\n",
    "and \n",
    "<a href=\"https://pandas.pydata.org/pandas-docs/stable/reference/api/pandas.DataFrame.kurt.html\">pandas.DataFrame.kurt</a> functions."
   ]
  },
  {
   "cell_type": "code",
   "execution_count": null,
   "metadata": {
    "collapsed": true
   },
   "outputs": [],
   "source": [
    "# Put your statements here\n"
   ]
  },
  {
   "cell_type": "markdown",
   "metadata": {},
   "source": [
    "### Step 6.3\n",
    "\n",
    "Apply log transformation to SalePrice using <a href=\"https://docs.scipy.org/doc/numpy/reference/generated/numpy.log.html\">numpy.log</a> function."
   ]
  },
  {
   "cell_type": "code",
   "execution_count": null,
   "metadata": {
    "collapsed": true
   },
   "outputs": [],
   "source": [
    "# Put your statement here\n"
   ]
  },
  {
   "cell_type": "markdown",
   "metadata": {},
   "source": [
    "### Step 6.4\n",
    "\n",
    "Plot the distribution of SalePrice using seaborn.distplot function again."
   ]
  },
  {
   "cell_type": "code",
   "execution_count": null,
   "metadata": {
    "collapsed": true
   },
   "outputs": [],
   "source": [
    "# Put your statement here\n"
   ]
  },
  {
   "cell_type": "markdown",
   "metadata": {},
   "source": [
    "## Bonus Tasks \n",
    "\n",
    "You may consider working on the followings:\n",
    "<ol>\n",
    "<li>Investigating whether normalization should be performed on any other features.\n",
    "</li><li>Performing more/other exploratory data analysis to explore other factors constituting to higher/lower SalePrice.\n",
    "</li>\n",
    "</ol>\n",
    "\n",
    "Note: The bonus tasks will worth at most 10 points depending on the amount and quality of the tasks. \n",
    "This assignment worths 100 points. The maximum score of this assignment including bonus is 110 points.\n",
    "But the maximum score of the 2 assignments together is 200."
   ]
  },
  {
   "cell_type": "code",
   "execution_count": null,
   "metadata": {
    "collapsed": true
   },
   "outputs": [],
   "source": []
  }
 ],
 "metadata": {
  "kernelspec": {
   "display_name": "Python 3",
   "language": "python",
   "name": "python3"
  },
  "language_info": {
   "codemirror_mode": {
    "name": "ipython",
    "version": 3
   },
   "file_extension": ".py",
   "mimetype": "text/x-python",
   "name": "python",
   "nbconvert_exporter": "python",
   "pygments_lexer": "ipython3",
   "version": "3.6.3"
  }
 },
 "nbformat": 4,
 "nbformat_minor": 2
}
